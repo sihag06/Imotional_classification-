{
 "cells": [
  {
   "cell_type": "code",
   "execution_count": 1,
   "metadata": {},
   "outputs": [],
   "source": [
    "import pandas as pd\n",
    "import numpy as np\n",
    "import librosa\n",
    "import matplotlib.pyplot as plt\n",
    "import os\n",
    "import joblib\n",
    "from sklearn.model_selection import train_test_split, StratifiedKFold\n",
    "from sklearn.preprocessing import StandardScaler, LabelEncoder\n",
    "from sklearn.metrics import accuracy_score, classification_report, confusion_matrix\n",
    "import tensorflow as tf\n",
    "from tensorflow.keras.models import Sequential, Model\n",
    "from tensorflow.keras.layers import (Dense, Dropout, BatchNormalization,\n",
    "                                   Conv1D, MaxPooling1D, GlobalAveragePooling1D,\n",
    "                                   Input)\n",
    "from tensorflow.keras.callbacks import ModelCheckpoint, EarlyStopping, ReduceLROnPlateau\n",
    "\n",
    "import seaborn as sns\n",
    "import warnings\n",
    "warnings.filterwarnings('ignore')\n"
   ]
  },
  {
   "cell_type": "markdown",
   "metadata": {},
   "source": [
    " # Configuration and Setup"
   ]
  },
  {
   "cell_type": "code",
   "execution_count": null,
   "metadata": {},
   "outputs": [],
   "source": [
    "\n",
    "SAMPLING_RATE = 16000\n",
    "N_MFCC = 13  \n",
    "N_MELS = 48  \n",
    "HOP_LENGTH = 512\n",
    "N_FFT = 1024  \n",
    "DURATION = 3.5\n",
    "\n",
    "def load_preprocess(file_path, sr=SAMPLING_RATE, duration=DURATION):\n",
    "    try:\n",
    "        x, _ = librosa.load(file_path, sr=sr, duration=duration, offset=0.2)\n",
    "        x, _ = librosa.effects.trim(x, top_db=30)\n",
    "\n",
    "        target_length = int(sr * duration)\n",
    "        if len(x) < target_length:\n",
    "            x = np.pad(x, (0, target_length - len(x)), mode='constant')\n",
    "        else:\n",
    "            x = x[:target_length]\n",
    "\n",
    "        max_val = np.max(np.abs(x))\n",
    "        if max_val > 0:\n",
    "            x = x / max_val\n",
    "        \n",
    "        return x\n",
    "    except Exception as e:\n",
    "        print(f\"Error loading {file_path}: {e}\")\n",
    "        return None\n"
   ]
  },
  {
   "cell_type": "markdown",
   "metadata": {},
   "source": [
    " # Feature Extraction Functions"
   ]
  },
  {
   "cell_type": "code",
   "execution_count": 3,
   "metadata": {},
   "outputs": [],
   "source": [
    "def extract_features_fast(x, sr):\n",
    "    features = []\n",
    "    \n",
    "    # MFCC features\n",
    "    mfccs = librosa.feature.mfcc(y=x, sr=sr, n_mfcc=N_MFCC, hop_length=HOP_LENGTH, n_fft=N_FFT)\n",
    "    features.extend(np.mean(mfccs.T, axis=0))\n",
    "    features.extend(np.std(mfccs.T, axis=0))    \n",
    "\n",
    "    # MFCC Delta\n",
    "    mfcc_delta = librosa.feature.delta(mfccs)\n",
    "    features.extend(np.mean(mfcc_delta.T, axis=0))\n",
    "    \n",
    "    # Mel Spectrogram\n",
    "    mel_spec = librosa.feature.melspectrogram(y=x, sr=sr, n_mels=N_MELS, hop_length=HOP_LENGTH, n_fft=N_FFT)\n",
    "    mel_spec_db = librosa.power_to_db(mel_spec, ref=np.max)\n",
    "    features.extend(np.mean(mel_spec_db.T, axis=0))\n",
    "    \n",
    "    # Spectral features\n",
    "    spectral_centroids = librosa.feature.spectral_centroid(y=x, sr=sr, hop_length=HOP_LENGTH)[0]\n",
    "    spectral_rolloff = librosa.feature.spectral_rolloff(y=x, sr=sr, hop_length=HOP_LENGTH)[0]\n",
    "    zero_crossing_rate = librosa.feature.zero_crossing_rate(x, hop_length=HOP_LENGTH)[0]\n",
    "    \n",
    "    features.extend([\n",
    "        np.mean(spectral_centroids), np.std(spectral_centroids),\n",
    "        np.mean(spectral_rolloff), np.std(spectral_rolloff),\n",
    "        np.mean(zero_crossing_rate), np.std(zero_crossing_rate)\n",
    "    ])\n",
    "\n",
    "    # Chroma features\n",
    "    chroma = librosa.feature.chroma_stft(y=x, sr=sr, hop_length=HOP_LENGTH, n_fft=N_FFT)\n",
    "    features.extend(np.mean(chroma.T, axis=0))\n",
    "    \n",
    "    return np.array(features)\n"
   ]
  },
  {
   "cell_type": "markdown",
   "metadata": {},
   "source": [
    " # Data Augmentation Functions"
   ]
  },
  {
   "cell_type": "code",
   "execution_count": null,
   "metadata": {},
   "outputs": [],
   "source": [
    "\n",
    "def simple_augmentation(x, sr):\n",
    "    augmented_samples = [x] \n",
    "    \n",
    "    # Time stretching\n",
    "    x_stretched = librosa.effects.time_stretch(x, rate=0.9)\n",
    "    augmented_samples.append(x_stretched)\n",
    "    \n",
    "    # Pitch shifting\n",
    "    x_pitched = librosa.effects.pitch_shift(x, sr=sr, n_steps=2)\n",
    "    augmented_samples.append(x_pitched)\n",
    "    \n",
    "    # Add noise\n",
    "    noise = np.random.normal(0, 0.005 * np.max(x), len(x))\n",
    "    x_noisy = x + noise\n",
    "    augmented_samples.append(x_noisy)\n",
    "    \n",
    "    return augmented_samples"
   ]
  },
  {
   "cell_type": "markdown",
   "metadata": {},
   "source": [
    " # CORRECTED Data Loading - Load Original Files Only"
   ]
  },
  {
   "cell_type": "code",
   "execution_count": null,
   "metadata": {},
   "outputs": [],
   "source": [
    "def load_original_data(path, max_files_per_emotion=None):\n",
    "    original_data = []\n",
    "    emotion_mapping = {\n",
    "        1: 0,  # neutral\n",
    "        2: 1,  # calm\n",
    "        3: 2,  # happy\n",
    "        # 4: 3,  # sad\n",
    "        5: 3,  # angry\n",
    "        6: 4,  # fearful\n",
    "        7: 5,  # disgust\n",
    "        8: 6   # surprised\n",
    "    }\n",
    "    \n",
    "    emotion_counts = {i: 0 for i in range(8)}\n",
    "    file_count = 0\n",
    "    \n",
    "    for fold in os.listdir(path):\n",
    "        fold_path = os.path.join(path, fold)\n",
    "        print(fold_path)\n",
    "        if not os.path.isdir(fold_path):\n",
    "            continue\n",
    "            \n",
    "        for actor in os.listdir(fold_path):\n",
    "            actor_path = os.path.join(fold_path, actor)\n",
    "            if not os.path.isdir(actor_path):\n",
    "                continue\n",
    "                \n",
    "            for file in os.listdir(actor_path):\n",
    "                if not file.endswith('.wav'):\n",
    "                    continue\n",
    "                    \n",
    "                file_path = os.path.join(actor_path, file)\n",
    "                try:\n",
    "                    emotion = int(file.split(\"-\")[2])\n",
    "                    if emotion in emotion_mapping:\n",
    "                        emotion_idx = emotion_mapping[emotion]\n",
    "                        \n",
    "                        if max_files_per_emotion and emotion_counts[emotion_idx] >= max_files_per_emotion:\n",
    "                            continue\n",
    "                        \n",
    "                        # Store file path and emotion - we'll process audio later\n",
    "                        original_data.append((file_path, emotion_idx))\n",
    "                        emotion_counts[emotion_idx] += 1\n",
    "                        file_count += 1\n",
    "                        \n",
    "                        if file_count % 50 == 0:\n",
    "                            print(f\"Found {file_count} files...\")\n",
    "                            \n",
    "                except Exception as e:\n",
    "                    print(f\"Error processing {file}: {e}\")\n",
    "                    continue\n",
    "    \n",
    "    print(f\"Found {len(original_data)} original audio files\")\n",
    "    return original_data\n"
   ]
  },
  {
   "cell_type": "code",
   "execution_count": null,
   "metadata": {},
   "outputs": [],
   "source": [
    "def process_audio_files(file_emotion_pairs, apply_augmentation=False):\n",
    "    processed_data = []\n",
    "    \n",
    "    for i, (file_path, emotion_idx) in enumerate(file_emotion_pairs):\n",
    "        try:\n",
    "            x = load_preprocess(file_path, SAMPLING_RATE)\n",
    "            if x is None:\n",
    "                continue\n",
    "            \n",
    "            if apply_augmentation:\n",
    "                features = extract_features_fast(x, SAMPLING_RATE)\n",
    "                processed_data.append((features, emotion_idx))\n",
    "\n",
    "                augmented_samples = simple_augmentation(x, SAMPLING_RATE)\n",
    "                for aug_x in augmented_samples:\n",
    "                    features = extract_features_fast(aug_x, SAMPLING_RATE)\n",
    "                    processed_data.append((features, emotion_idx))\n",
    "            else:\n",
    "                features = extract_features_fast(x, SAMPLING_RATE)\n",
    "                processed_data.append((features, emotion_idx))\n",
    "            \n",
    "            if (i + 1) % 50 == 0:\n",
    "                print(f\"Processed {i + 1}/{len(file_emotion_pairs)} files...\")\n",
    "                \n",
    "        except Exception as e:\n",
    "            print(f\"Error processing {file_path}: {e}\")\n",
    "            continue\n",
    "    \n",
    "    return processed_data\n"
   ]
  },
  {
   "cell_type": "markdown",
   "metadata": {},
   "source": [
    " # Model Architecture Functions"
   ]
  },
  {
   "cell_type": "code",
   "execution_count": null,
   "metadata": {},
   "outputs": [],
   "source": [
    "def create_compact_model(input_shape, num_classes):\n",
    "    \"\"\"Create a compact dense neural network\"\"\"\n",
    "    model = Sequential([\n",
    "        Dense(512, input_shape=(input_shape,), activation='relu'),\n",
    "        BatchNormalization(),\n",
    "        Dropout(0.3),\n",
    "        \n",
    "        Dense(256, activation='relu'),\n",
    "        BatchNormalization(),\n",
    "        Dropout(0.3),\n",
    "        \n",
    "        Dense(128, activation='relu'),\n",
    "        BatchNormalization(),\n",
    "        Dropout(0.2),\n",
    "        \n",
    "        Dense(64, activation='relu'),\n",
    "        Dropout(0.2),\n",
    "        \n",
    "        Dense(num_classes, activation='softmax')\n",
    "    ],name = \"LOOOOOOOO\")\n",
    "    \n",
    "    return model\n"
   ]
  },
  {
   "cell_type": "markdown",
   "metadata": {},
   "source": [
    " # Main Training Pipeline - CORRECTED APPROACH"
   ]
  },
  {
   "cell_type": "code",
   "execution_count": 26,
   "metadata": {},
   "outputs": [
    {
     "name": "stdout",
     "output_type": "stream",
     "text": [
      "Step 1: Loading original file information...\n",
      "C:\\Users\\jangi\\OneDrive\\Desktop\\Mars Project\\data\\audios\\Audio_Song_Actors_01-24\n",
      "Found 50 files...\n",
      "Found 100 files...\n",
      "Found 150 files...\n",
      "Found 200 files...\n",
      "Found 250 files...\n",
      "Found 300 files...\n",
      "Found 350 files...\n",
      "Found 400 files...\n",
      "Found 450 files...\n",
      "Found 500 files...\n",
      "Found 550 files...\n",
      "Found 600 files...\n",
      "Found 650 files...\n",
      "Found 700 files...\n",
      "Found 750 files...\n",
      "Found 800 files...\n",
      "C:\\Users\\jangi\\OneDrive\\Desktop\\Mars Project\\data\\audios\\Audio_Speech_Actors_01-24\n",
      "Found 850 files...\n",
      "Found 900 files...\n",
      "Found 950 files...\n",
      "Found 1000 files...\n",
      "Found 1050 files...\n",
      "Found 1100 files...\n",
      "Found 1150 files...\n",
      "Found 1200 files...\n",
      "Found 1250 files...\n",
      "Found 1300 files...\n",
      "Found 1350 files...\n",
      "Found 1400 files...\n",
      "Found 1450 files...\n",
      "Found 1500 files...\n",
      "Found 1550 files...\n",
      "Found 1600 files...\n",
      "Found 1650 files...\n",
      "Found 1700 files...\n",
      "Found 1750 files...\n",
      "Found 1772 original audio files\n",
      "\n",
      "Step 2: Splitting original data...\n",
      "Training files: 1417\n",
      "Test files: 355\n",
      "\n",
      "Step 3: Processing training data with augmentation...\n"
     ]
    },
    {
     "name": "stdout",
     "output_type": "stream",
     "text": [
      "Processed 50/1417 files...\n",
      "Processed 100/1417 files...\n",
      "Processed 150/1417 files...\n",
      "Processed 200/1417 files...\n",
      "Processed 250/1417 files...\n",
      "Processed 300/1417 files...\n",
      "Processed 350/1417 files...\n",
      "Processed 400/1417 files...\n",
      "Processed 450/1417 files...\n",
      "Processed 500/1417 files...\n",
      "Processed 550/1417 files...\n",
      "Processed 600/1417 files...\n",
      "Processed 650/1417 files...\n",
      "Processed 700/1417 files...\n",
      "Processed 750/1417 files...\n",
      "Processed 800/1417 files...\n",
      "Processed 850/1417 files...\n",
      "Processed 900/1417 files...\n",
      "Processed 950/1417 files...\n",
      "Processed 1000/1417 files...\n",
      "Processed 1050/1417 files...\n",
      "Processed 1100/1417 files...\n",
      "Processed 1150/1417 files...\n",
      "Processed 1200/1417 files...\n",
      "Processed 1250/1417 files...\n",
      "Processed 1300/1417 files...\n",
      "Processed 1350/1417 files...\n",
      "Processed 1400/1417 files...\n",
      "\n",
      "Step 4: Processing test data without augmentation...\n",
      "Processed 50/355 files...\n",
      "Processed 100/355 files...\n",
      "Processed 150/355 files...\n",
      "Processed 200/355 files...\n",
      "Processed 250/355 files...\n",
      "Processed 300/355 files...\n",
      "Processed 350/355 files...\n",
      "\n",
      "Extracting features and labels...\n",
      "Training set shape: (7085, 105)\n",
      "Test set shape: (355, 105)\n",
      "Number of classes: 7\n"
     ]
    }
   ],
   "source": [
    "# Set your data path\n",
    "path = r\"C:\\Users\\jangi\\OneDrive\\Desktop\\Mars Project\\data\\audios\"\n",
    "\n",
    "print(\"Step 1: Loading original file information...\")\n",
    "original_data = load_original_data(path, max_files_per_emotion=300)\n",
    "\n",
    "\n",
    "print(\"\\nStep 2: Splitting original data...\")\n",
    "file_paths, emotions = zip(*original_data)\n",
    "\n",
    "\n",
    "train_files, test_files, train_emotions, test_emotions = train_test_split(\n",
    "    file_paths, emotions, \n",
    "    test_size=0.2, \n",
    "    random_state=42, \n",
    "    stratify=emotions, \n",
    "    shuffle=True\n",
    ")\n",
    "\n",
    "print(f\"Training files: {len(train_files)}\")\n",
    "print(f\"Test files: {len(test_files)}\")\n",
    "\n",
    "print(\"\\nStep 3: Processing training data with augmentation...\")\n",
    "train_pairs = list(zip(train_files, train_emotions))\n",
    "train_processed = process_audio_files(train_pairs, apply_augmentation=True)\n",
    "\n",
    "print(\"\\nStep 4: Processing test data without augmentation...\")\n",
    "test_pairs = list(zip(test_files, test_emotions))\n",
    "test_processed = process_audio_files(test_pairs, apply_augmentation=False)\n",
    "\n",
    "print(\"\\nExtracting features and labels...\")\n",
    "X_train, y_train = zip(*train_processed)\n",
    "X_test, y_test = zip(*test_processed)\n",
    "\n",
    "X_train = np.array(X_train)\n",
    "y_train = np.array(y_train)\n",
    "X_test = np.array(X_test)\n",
    "y_test = np.array(y_test)\n",
    "\n",
    "print(f\"Training set shape: {X_train.shape}\")\n",
    "print(f\"Test set shape: {X_test.shape}\")\n",
    "print(f\"Number of classes: {len(np.unique(y_train))}\")\n"
   ]
  },
  {
   "cell_type": "markdown",
   "metadata": {},
   "source": [
    " # Data Preprocessing and Scaling"
   ]
  },
  {
   "cell_type": "code",
   "execution_count": null,
   "metadata": {},
   "outputs": [
    {
     "name": "stdout",
     "output_type": "stream",
     "text": [
      "Scaled training set shape: (7085, 105)\n",
      "Scaled test set shape: (355, 105)\n"
     ]
    }
   ],
   "source": [
    "\n",
    "save_dir = 'C:\\\\Users\\\\jangi\\\\OneDrive\\\\Desktop\\\\Mars Project\\\\saved'\n",
    "\n",
    "scaler = StandardScaler()\n",
    "X_train_scaled = scaler.fit_transform(X_train)\n",
    "X_test_scaled = scaler.transform(X_test) \n",
    "\n",
    "joblib.dump(scaler, os.path.join(save_dir, 'scaler_.joblib'))\n",
    "\n",
    "print(f\"Scaled training set shape: {X_train_scaled.shape}\")\n",
    "print(f\"Scaled test set shape: {X_test_scaled.shape}\")\n"
   ]
  },
  {
   "cell_type": "markdown",
   "metadata": {},
   "source": [
    " # Model Creation and Training"
   ]
  },
  {
   "cell_type": "code",
   "execution_count": null,
   "metadata": {},
   "outputs": [
    {
     "data": {
      "text/html": [
       "<pre style=\"white-space:pre;overflow-x:auto;line-height:normal;font-family:Menlo,'DejaVu Sans Mono',consolas,'Courier New',monospace\"><span style=\"font-weight: bold\">Model: \"LOOOOOOOO\"</span>\n",
       "</pre>\n"
      ],
      "text/plain": [
       "\u001b[1mModel: \"LOOOOOOOO\"\u001b[0m\n"
      ]
     },
     "metadata": {},
     "output_type": "display_data"
    },
    {
     "data": {
      "text/html": [
       "<pre style=\"white-space:pre;overflow-x:auto;line-height:normal;font-family:Menlo,'DejaVu Sans Mono',consolas,'Courier New',monospace\">┏━━━━━━━━━━━━━━━━━━━━━━━━━━━━━━━━━┳━━━━━━━━━━━━━━━━━━━━━━━━┳━━━━━━━━━━━━━━━┓\n",
       "┃<span style=\"font-weight: bold\"> Layer (type)                    </span>┃<span style=\"font-weight: bold\"> Output Shape           </span>┃<span style=\"font-weight: bold\">       Param # </span>┃\n",
       "┡━━━━━━━━━━━━━━━━━━━━━━━━━━━━━━━━━╇━━━━━━━━━━━━━━━━━━━━━━━━╇━━━━━━━━━━━━━━━┩\n",
       "│ dense_10 (<span style=\"color: #0087ff; text-decoration-color: #0087ff\">Dense</span>)                │ (<span style=\"color: #00d7ff; text-decoration-color: #00d7ff\">None</span>, <span style=\"color: #00af00; text-decoration-color: #00af00\">512</span>)            │        <span style=\"color: #00af00; text-decoration-color: #00af00\">54,272</span> │\n",
       "├─────────────────────────────────┼────────────────────────┼───────────────┤\n",
       "│ batch_normalization_6           │ (<span style=\"color: #00d7ff; text-decoration-color: #00d7ff\">None</span>, <span style=\"color: #00af00; text-decoration-color: #00af00\">512</span>)            │         <span style=\"color: #00af00; text-decoration-color: #00af00\">2,048</span> │\n",
       "│ (<span style=\"color: #0087ff; text-decoration-color: #0087ff\">BatchNormalization</span>)            │                        │               │\n",
       "├─────────────────────────────────┼────────────────────────┼───────────────┤\n",
       "│ dropout_8 (<span style=\"color: #0087ff; text-decoration-color: #0087ff\">Dropout</span>)             │ (<span style=\"color: #00d7ff; text-decoration-color: #00d7ff\">None</span>, <span style=\"color: #00af00; text-decoration-color: #00af00\">512</span>)            │             <span style=\"color: #00af00; text-decoration-color: #00af00\">0</span> │\n",
       "├─────────────────────────────────┼────────────────────────┼───────────────┤\n",
       "│ dense_11 (<span style=\"color: #0087ff; text-decoration-color: #0087ff\">Dense</span>)                │ (<span style=\"color: #00d7ff; text-decoration-color: #00d7ff\">None</span>, <span style=\"color: #00af00; text-decoration-color: #00af00\">256</span>)            │       <span style=\"color: #00af00; text-decoration-color: #00af00\">131,328</span> │\n",
       "├─────────────────────────────────┼────────────────────────┼───────────────┤\n",
       "│ batch_normalization_7           │ (<span style=\"color: #00d7ff; text-decoration-color: #00d7ff\">None</span>, <span style=\"color: #00af00; text-decoration-color: #00af00\">256</span>)            │         <span style=\"color: #00af00; text-decoration-color: #00af00\">1,024</span> │\n",
       "│ (<span style=\"color: #0087ff; text-decoration-color: #0087ff\">BatchNormalization</span>)            │                        │               │\n",
       "├─────────────────────────────────┼────────────────────────┼───────────────┤\n",
       "│ dropout_9 (<span style=\"color: #0087ff; text-decoration-color: #0087ff\">Dropout</span>)             │ (<span style=\"color: #00d7ff; text-decoration-color: #00d7ff\">None</span>, <span style=\"color: #00af00; text-decoration-color: #00af00\">256</span>)            │             <span style=\"color: #00af00; text-decoration-color: #00af00\">0</span> │\n",
       "├─────────────────────────────────┼────────────────────────┼───────────────┤\n",
       "│ dense_12 (<span style=\"color: #0087ff; text-decoration-color: #0087ff\">Dense</span>)                │ (<span style=\"color: #00d7ff; text-decoration-color: #00d7ff\">None</span>, <span style=\"color: #00af00; text-decoration-color: #00af00\">128</span>)            │        <span style=\"color: #00af00; text-decoration-color: #00af00\">32,896</span> │\n",
       "├─────────────────────────────────┼────────────────────────┼───────────────┤\n",
       "│ batch_normalization_8           │ (<span style=\"color: #00d7ff; text-decoration-color: #00d7ff\">None</span>, <span style=\"color: #00af00; text-decoration-color: #00af00\">128</span>)            │           <span style=\"color: #00af00; text-decoration-color: #00af00\">512</span> │\n",
       "│ (<span style=\"color: #0087ff; text-decoration-color: #0087ff\">BatchNormalization</span>)            │                        │               │\n",
       "├─────────────────────────────────┼────────────────────────┼───────────────┤\n",
       "│ dropout_10 (<span style=\"color: #0087ff; text-decoration-color: #0087ff\">Dropout</span>)            │ (<span style=\"color: #00d7ff; text-decoration-color: #00d7ff\">None</span>, <span style=\"color: #00af00; text-decoration-color: #00af00\">128</span>)            │             <span style=\"color: #00af00; text-decoration-color: #00af00\">0</span> │\n",
       "├─────────────────────────────────┼────────────────────────┼───────────────┤\n",
       "│ dense_13 (<span style=\"color: #0087ff; text-decoration-color: #0087ff\">Dense</span>)                │ (<span style=\"color: #00d7ff; text-decoration-color: #00d7ff\">None</span>, <span style=\"color: #00af00; text-decoration-color: #00af00\">64</span>)             │         <span style=\"color: #00af00; text-decoration-color: #00af00\">8,256</span> │\n",
       "├─────────────────────────────────┼────────────────────────┼───────────────┤\n",
       "│ dropout_11 (<span style=\"color: #0087ff; text-decoration-color: #0087ff\">Dropout</span>)            │ (<span style=\"color: #00d7ff; text-decoration-color: #00d7ff\">None</span>, <span style=\"color: #00af00; text-decoration-color: #00af00\">64</span>)             │             <span style=\"color: #00af00; text-decoration-color: #00af00\">0</span> │\n",
       "├─────────────────────────────────┼────────────────────────┼───────────────┤\n",
       "│ dense_14 (<span style=\"color: #0087ff; text-decoration-color: #0087ff\">Dense</span>)                │ (<span style=\"color: #00d7ff; text-decoration-color: #00d7ff\">None</span>, <span style=\"color: #00af00; text-decoration-color: #00af00\">7</span>)              │           <span style=\"color: #00af00; text-decoration-color: #00af00\">455</span> │\n",
       "└─────────────────────────────────┴────────────────────────┴───────────────┘\n",
       "</pre>\n"
      ],
      "text/plain": [
       "┏━━━━━━━━━━━━━━━━━━━━━━━━━━━━━━━━━┳━━━━━━━━━━━━━━━━━━━━━━━━┳━━━━━━━━━━━━━━━┓\n",
       "┃\u001b[1m \u001b[0m\u001b[1mLayer (type)                   \u001b[0m\u001b[1m \u001b[0m┃\u001b[1m \u001b[0m\u001b[1mOutput Shape          \u001b[0m\u001b[1m \u001b[0m┃\u001b[1m \u001b[0m\u001b[1m      Param #\u001b[0m\u001b[1m \u001b[0m┃\n",
       "┡━━━━━━━━━━━━━━━━━━━━━━━━━━━━━━━━━╇━━━━━━━━━━━━━━━━━━━━━━━━╇━━━━━━━━━━━━━━━┩\n",
       "│ dense_10 (\u001b[38;5;33mDense\u001b[0m)                │ (\u001b[38;5;45mNone\u001b[0m, \u001b[38;5;34m512\u001b[0m)            │        \u001b[38;5;34m54,272\u001b[0m │\n",
       "├─────────────────────────────────┼────────────────────────┼───────────────┤\n",
       "│ batch_normalization_6           │ (\u001b[38;5;45mNone\u001b[0m, \u001b[38;5;34m512\u001b[0m)            │         \u001b[38;5;34m2,048\u001b[0m │\n",
       "│ (\u001b[38;5;33mBatchNormalization\u001b[0m)            │                        │               │\n",
       "├─────────────────────────────────┼────────────────────────┼───────────────┤\n",
       "│ dropout_8 (\u001b[38;5;33mDropout\u001b[0m)             │ (\u001b[38;5;45mNone\u001b[0m, \u001b[38;5;34m512\u001b[0m)            │             \u001b[38;5;34m0\u001b[0m │\n",
       "├─────────────────────────────────┼────────────────────────┼───────────────┤\n",
       "│ dense_11 (\u001b[38;5;33mDense\u001b[0m)                │ (\u001b[38;5;45mNone\u001b[0m, \u001b[38;5;34m256\u001b[0m)            │       \u001b[38;5;34m131,328\u001b[0m │\n",
       "├─────────────────────────────────┼────────────────────────┼───────────────┤\n",
       "│ batch_normalization_7           │ (\u001b[38;5;45mNone\u001b[0m, \u001b[38;5;34m256\u001b[0m)            │         \u001b[38;5;34m1,024\u001b[0m │\n",
       "│ (\u001b[38;5;33mBatchNormalization\u001b[0m)            │                        │               │\n",
       "├─────────────────────────────────┼────────────────────────┼───────────────┤\n",
       "│ dropout_9 (\u001b[38;5;33mDropout\u001b[0m)             │ (\u001b[38;5;45mNone\u001b[0m, \u001b[38;5;34m256\u001b[0m)            │             \u001b[38;5;34m0\u001b[0m │\n",
       "├─────────────────────────────────┼────────────────────────┼───────────────┤\n",
       "│ dense_12 (\u001b[38;5;33mDense\u001b[0m)                │ (\u001b[38;5;45mNone\u001b[0m, \u001b[38;5;34m128\u001b[0m)            │        \u001b[38;5;34m32,896\u001b[0m │\n",
       "├─────────────────────────────────┼────────────────────────┼───────────────┤\n",
       "│ batch_normalization_8           │ (\u001b[38;5;45mNone\u001b[0m, \u001b[38;5;34m128\u001b[0m)            │           \u001b[38;5;34m512\u001b[0m │\n",
       "│ (\u001b[38;5;33mBatchNormalization\u001b[0m)            │                        │               │\n",
       "├─────────────────────────────────┼────────────────────────┼───────────────┤\n",
       "│ dropout_10 (\u001b[38;5;33mDropout\u001b[0m)            │ (\u001b[38;5;45mNone\u001b[0m, \u001b[38;5;34m128\u001b[0m)            │             \u001b[38;5;34m0\u001b[0m │\n",
       "├─────────────────────────────────┼────────────────────────┼───────────────┤\n",
       "│ dense_13 (\u001b[38;5;33mDense\u001b[0m)                │ (\u001b[38;5;45mNone\u001b[0m, \u001b[38;5;34m64\u001b[0m)             │         \u001b[38;5;34m8,256\u001b[0m │\n",
       "├─────────────────────────────────┼────────────────────────┼───────────────┤\n",
       "│ dropout_11 (\u001b[38;5;33mDropout\u001b[0m)            │ (\u001b[38;5;45mNone\u001b[0m, \u001b[38;5;34m64\u001b[0m)             │             \u001b[38;5;34m0\u001b[0m │\n",
       "├─────────────────────────────────┼────────────────────────┼───────────────┤\n",
       "│ dense_14 (\u001b[38;5;33mDense\u001b[0m)                │ (\u001b[38;5;45mNone\u001b[0m, \u001b[38;5;34m7\u001b[0m)              │           \u001b[38;5;34m455\u001b[0m │\n",
       "└─────────────────────────────────┴────────────────────────┴───────────────┘\n"
      ]
     },
     "metadata": {},
     "output_type": "display_data"
    },
    {
     "data": {
      "text/html": [
       "<pre style=\"white-space:pre;overflow-x:auto;line-height:normal;font-family:Menlo,'DejaVu Sans Mono',consolas,'Courier New',monospace\"><span style=\"font-weight: bold\"> Total params: </span><span style=\"color: #00af00; text-decoration-color: #00af00\">230,791</span> (901.53 KB)\n",
       "</pre>\n"
      ],
      "text/plain": [
       "\u001b[1m Total params: \u001b[0m\u001b[38;5;34m230,791\u001b[0m (901.53 KB)\n"
      ]
     },
     "metadata": {},
     "output_type": "display_data"
    },
    {
     "data": {
      "text/html": [
       "<pre style=\"white-space:pre;overflow-x:auto;line-height:normal;font-family:Menlo,'DejaVu Sans Mono',consolas,'Courier New',monospace\"><span style=\"font-weight: bold\"> Trainable params: </span><span style=\"color: #00af00; text-decoration-color: #00af00\">228,999</span> (894.53 KB)\n",
       "</pre>\n"
      ],
      "text/plain": [
       "\u001b[1m Trainable params: \u001b[0m\u001b[38;5;34m228,999\u001b[0m (894.53 KB)\n"
      ]
     },
     "metadata": {},
     "output_type": "display_data"
    },
    {
     "data": {
      "text/html": [
       "<pre style=\"white-space:pre;overflow-x:auto;line-height:normal;font-family:Menlo,'DejaVu Sans Mono',consolas,'Courier New',monospace\"><span style=\"font-weight: bold\"> Non-trainable params: </span><span style=\"color: #00af00; text-decoration-color: #00af00\">1,792</span> (7.00 KB)\n",
       "</pre>\n"
      ],
      "text/plain": [
       "\u001b[1m Non-trainable params: \u001b[0m\u001b[38;5;34m1,792\u001b[0m (7.00 KB)\n"
      ]
     },
     "metadata": {},
     "output_type": "display_data"
    }
   ],
   "source": [
    "\n",
    "model = create_compact_model(X_train_scaled.shape[1], len(np.unique(y_train)))\n",
    "\n",
    "model.compile(\n",
    "    optimizer=tf.keras.optimizers.Adam(learning_rate=0.001),\n",
    "    loss='sparse_categorical_crossentropy',\n",
    "    metrics=['accuracy']\n",
    ")\n",
    "\n",
    "model.summary()\n"
   ]
  },
  {
   "cell_type": "code",
   "execution_count": 29,
   "metadata": {},
   "outputs": [],
   "source": [
    "# Define callbacks\n",
    "callbacks = [\n",
    "    ModelCheckpoint(\n",
    "        os.path.join(save_dir, 'best_model_corrected.h5'),\n",
    "        monitor='val_accuracy',\n",
    "        save_best_only=True,\n",
    "        save_weights_only=False,\n",
    "        verbose=1\n",
    "    ),\n",
    "    EarlyStopping(\n",
    "        monitor='val_accuracy',\n",
    "        patience=10,\n",
    "        restore_best_weights=True,\n",
    "        verbose=1\n",
    "    ),\n",
    "    ReduceLROnPlateau(\n",
    "        monitor='val_loss',\n",
    "        factor=0.5,\n",
    "        patience=5,\n",
    "        min_lr=1e-6,\n",
    "        verbose=1\n",
    "    )\n",
    "]\n"
   ]
  },
  {
   "cell_type": "code",
   "execution_count": null,
   "metadata": {},
   "outputs": [
    {
     "name": "stdout",
     "output_type": "stream",
     "text": [
      "Training model...\n",
      "Epoch 1/100\n",
      "\u001b[1m86/89\u001b[0m \u001b[32m━━━━━━━━━━━━━━━━━━━\u001b[0m\u001b[37m━\u001b[0m \u001b[1m0s\u001b[0m 7ms/step - accuracy: 0.2594 - loss: 2.0796\n",
      "Epoch 1: val_accuracy improved from -inf to 0.47848, saving model to C:\\Users\\jangi\\OneDrive\\Desktop\\Mars Project\\saved\\best_model_corrected.h5\n"
     ]
    },
    {
     "name": "stderr",
     "output_type": "stream",
     "text": [
      "WARNING:absl:You are saving your model as an HDF5 file via `model.save()` or `keras.saving.save_model(model)`. This file format is considered legacy. We recommend using instead the native Keras format, e.g. `model.save('my_model.keras')` or `keras.saving.save_model(model, 'my_model.keras')`. \n"
     ]
    },
    {
     "name": "stdout",
     "output_type": "stream",
     "text": [
      "\u001b[1m89/89\u001b[0m \u001b[32m━━━━━━━━━━━━━━━━━━━━\u001b[0m\u001b[37m\u001b[0m \u001b[1m4s\u001b[0m 12ms/step - accuracy: 0.2633 - loss: 2.0654 - val_accuracy: 0.4785 - val_loss: 1.4602 - learning_rate: 0.0010\n",
      "Epoch 2/100\n",
      "\u001b[1m85/89\u001b[0m \u001b[32m━━━━━━━━━━━━━━━━━━━\u001b[0m\u001b[37m━\u001b[0m \u001b[1m0s\u001b[0m 6ms/step - accuracy: 0.5110 - loss: 1.2851\n",
      "Epoch 2: val_accuracy improved from 0.47848 to 0.55046, saving model to C:\\Users\\jangi\\OneDrive\\Desktop\\Mars Project\\saved\\best_model_corrected.h5\n"
     ]
    },
    {
     "name": "stderr",
     "output_type": "stream",
     "text": [
      "WARNING:absl:You are saving your model as an HDF5 file via `model.save()` or `keras.saving.save_model(model)`. This file format is considered legacy. We recommend using instead the native Keras format, e.g. `model.save('my_model.keras')` or `keras.saving.save_model(model, 'my_model.keras')`. \n"
     ]
    },
    {
     "name": "stdout",
     "output_type": "stream",
     "text": [
      "\u001b[1m89/89\u001b[0m \u001b[32m━━━━━━━━━━━━━━━━━━━━\u001b[0m\u001b[37m\u001b[0m \u001b[1m1s\u001b[0m 8ms/step - accuracy: 0.5118 - loss: 1.2825 - val_accuracy: 0.5505 - val_loss: 1.1836 - learning_rate: 0.0010\n",
      "Epoch 3/100\n",
      "\u001b[1m84/89\u001b[0m \u001b[32m━━━━━━━━━━━━━━━━━━\u001b[0m\u001b[37m━━\u001b[0m \u001b[1m0s\u001b[0m 6ms/step - accuracy: 0.6063 - loss: 1.0586\n",
      "Epoch 3: val_accuracy improved from 0.55046 to 0.62668, saving model to C:\\Users\\jangi\\OneDrive\\Desktop\\Mars Project\\saved\\best_model_corrected.h5\n"
     ]
    },
    {
     "name": "stderr",
     "output_type": "stream",
     "text": [
      "WARNING:absl:You are saving your model as an HDF5 file via `model.save()` or `keras.saving.save_model(model)`. This file format is considered legacy. We recommend using instead the native Keras format, e.g. `model.save('my_model.keras')` or `keras.saving.save_model(model, 'my_model.keras')`. \n"
     ]
    },
    {
     "name": "stdout",
     "output_type": "stream",
     "text": [
      "\u001b[1m89/89\u001b[0m \u001b[32m━━━━━━━━━━━━━━━━━━━━\u001b[0m\u001b[37m\u001b[0m \u001b[1m1s\u001b[0m 8ms/step - accuracy: 0.6065 - loss: 1.0583 - val_accuracy: 0.6267 - val_loss: 1.0197 - learning_rate: 0.0010\n",
      "Epoch 4/100\n",
      "\u001b[1m83/89\u001b[0m \u001b[32m━━━━━━━━━━━━━━━━━━\u001b[0m\u001b[37m━━\u001b[0m \u001b[1m0s\u001b[0m 7ms/step - accuracy: 0.6605 - loss: 0.9152\n",
      "Epoch 4: val_accuracy improved from 0.62668 to 0.63797, saving model to C:\\Users\\jangi\\OneDrive\\Desktop\\Mars Project\\saved\\best_model_corrected.h5\n"
     ]
    },
    {
     "name": "stderr",
     "output_type": "stream",
     "text": [
      "WARNING:absl:You are saving your model as an HDF5 file via `model.save()` or `keras.saving.save_model(model)`. This file format is considered legacy. We recommend using instead the native Keras format, e.g. `model.save('my_model.keras')` or `keras.saving.save_model(model, 'my_model.keras')`. \n"
     ]
    },
    {
     "name": "stdout",
     "output_type": "stream",
     "text": [
      "\u001b[1m89/89\u001b[0m \u001b[32m━━━━━━━━━━━━━━━━━━━━\u001b[0m\u001b[37m\u001b[0m \u001b[1m1s\u001b[0m 10ms/step - accuracy: 0.6614 - loss: 0.9126 - val_accuracy: 0.6380 - val_loss: 0.9624 - learning_rate: 0.0010\n",
      "Epoch 5/100\n",
      "\u001b[1m87/89\u001b[0m \u001b[32m━━━━━━━━━━━━━━━━━━━\u001b[0m\u001b[37m━\u001b[0m \u001b[1m0s\u001b[0m 6ms/step - accuracy: 0.7115 - loss: 0.7914\n",
      "Epoch 5: val_accuracy improved from 0.63797 to 0.68596, saving model to C:\\Users\\jangi\\OneDrive\\Desktop\\Mars Project\\saved\\best_model_corrected.h5\n"
     ]
    },
    {
     "name": "stderr",
     "output_type": "stream",
     "text": [
      "WARNING:absl:You are saving your model as an HDF5 file via `model.save()` or `keras.saving.save_model(model)`. This file format is considered legacy. We recommend using instead the native Keras format, e.g. `model.save('my_model.keras')` or `keras.saving.save_model(model, 'my_model.keras')`. \n"
     ]
    },
    {
     "name": "stdout",
     "output_type": "stream",
     "text": [
      "\u001b[1m89/89\u001b[0m \u001b[32m━━━━━━━━━━━━━━━━━━━━\u001b[0m\u001b[37m\u001b[0m \u001b[1m1s\u001b[0m 8ms/step - accuracy: 0.7114 - loss: 0.7913 - val_accuracy: 0.6860 - val_loss: 0.8365 - learning_rate: 0.0010\n",
      "Epoch 6/100\n",
      "\u001b[1m86/89\u001b[0m \u001b[32m━━━━━━━━━━━━━━━━━━━\u001b[0m\u001b[37m━\u001b[0m \u001b[1m0s\u001b[0m 6ms/step - accuracy: 0.7281 - loss: 0.7160\n",
      "Epoch 6: val_accuracy did not improve from 0.68596\n",
      "\u001b[1m89/89\u001b[0m \u001b[32m━━━━━━━━━━━━━━━━━━━━\u001b[0m\u001b[37m\u001b[0m \u001b[1m1s\u001b[0m 8ms/step - accuracy: 0.7283 - loss: 0.7157 - val_accuracy: 0.6853 - val_loss: 0.8357 - learning_rate: 0.0010\n",
      "Epoch 7/100\n",
      "\u001b[1m86/89\u001b[0m \u001b[32m━━━━━━━━━━━━━━━━━━━\u001b[0m\u001b[37m━\u001b[0m \u001b[1m0s\u001b[0m 7ms/step - accuracy: 0.7506 - loss: 0.6752\n",
      "Epoch 7: val_accuracy improved from 0.68596 to 0.70501, saving model to C:\\Users\\jangi\\OneDrive\\Desktop\\Mars Project\\saved\\best_model_corrected.h5\n"
     ]
    },
    {
     "name": "stderr",
     "output_type": "stream",
     "text": [
      "WARNING:absl:You are saving your model as an HDF5 file via `model.save()` or `keras.saving.save_model(model)`. This file format is considered legacy. We recommend using instead the native Keras format, e.g. `model.save('my_model.keras')` or `keras.saving.save_model(model, 'my_model.keras')`. \n"
     ]
    },
    {
     "name": "stdout",
     "output_type": "stream",
     "text": [
      "\u001b[1m89/89\u001b[0m \u001b[32m━━━━━━━━━━━━━━━━━━━━\u001b[0m\u001b[37m\u001b[0m \u001b[1m1s\u001b[0m 9ms/step - accuracy: 0.7507 - loss: 0.6749 - val_accuracy: 0.7050 - val_loss: 0.8027 - learning_rate: 0.0010\n",
      "Epoch 8/100\n",
      "\u001b[1m87/89\u001b[0m \u001b[32m━━━━━━━━━━━━━━━━━━━\u001b[0m\u001b[37m━\u001b[0m \u001b[1m0s\u001b[0m 7ms/step - accuracy: 0.7794 - loss: 0.6134\n",
      "Epoch 8: val_accuracy did not improve from 0.70501\n",
      "\u001b[1m89/89\u001b[0m \u001b[32m━━━━━━━━━━━━━━━━━━━━\u001b[0m\u001b[37m\u001b[0m \u001b[1m1s\u001b[0m 8ms/step - accuracy: 0.7791 - loss: 0.6136 - val_accuracy: 0.7043 - val_loss: 0.8425 - learning_rate: 0.0010\n",
      "Epoch 9/100\n",
      "\u001b[1m80/89\u001b[0m \u001b[32m━━━━━━━━━━━━━━━━━\u001b[0m\u001b[37m━━━\u001b[0m \u001b[1m0s\u001b[0m 7ms/step - accuracy: 0.7830 - loss: 0.5747\n",
      "Epoch 9: val_accuracy improved from 0.70501 to 0.71348, saving model to C:\\Users\\jangi\\OneDrive\\Desktop\\Mars Project\\saved\\best_model_corrected.h5\n"
     ]
    },
    {
     "name": "stderr",
     "output_type": "stream",
     "text": [
      "WARNING:absl:You are saving your model as an HDF5 file via `model.save()` or `keras.saving.save_model(model)`. This file format is considered legacy. We recommend using instead the native Keras format, e.g. `model.save('my_model.keras')` or `keras.saving.save_model(model, 'my_model.keras')`. \n"
     ]
    },
    {
     "name": "stdout",
     "output_type": "stream",
     "text": [
      "\u001b[1m89/89\u001b[0m \u001b[32m━━━━━━━━━━━━━━━━━━━━\u001b[0m\u001b[37m\u001b[0m \u001b[1m1s\u001b[0m 9ms/step - accuracy: 0.7828 - loss: 0.5764 - val_accuracy: 0.7135 - val_loss: 0.7982 - learning_rate: 0.0010\n",
      "Epoch 10/100\n",
      "\u001b[1m82/89\u001b[0m \u001b[32m━━━━━━━━━━━━━━━━━━\u001b[0m\u001b[37m━━\u001b[0m \u001b[1m0s\u001b[0m 7ms/step - accuracy: 0.7988 - loss: 0.5536\n",
      "Epoch 10: val_accuracy improved from 0.71348 to 0.73112, saving model to C:\\Users\\jangi\\OneDrive\\Desktop\\Mars Project\\saved\\best_model_corrected.h5\n"
     ]
    },
    {
     "name": "stderr",
     "output_type": "stream",
     "text": [
      "WARNING:absl:You are saving your model as an HDF5 file via `model.save()` or `keras.saving.save_model(model)`. This file format is considered legacy. We recommend using instead the native Keras format, e.g. `model.save('my_model.keras')` or `keras.saving.save_model(model, 'my_model.keras')`. \n"
     ]
    },
    {
     "name": "stdout",
     "output_type": "stream",
     "text": [
      "\u001b[1m89/89\u001b[0m \u001b[32m━━━━━━━━━━━━━━━━━━━━\u001b[0m\u001b[37m\u001b[0m \u001b[1m1s\u001b[0m 9ms/step - accuracy: 0.7991 - loss: 0.5526 - val_accuracy: 0.7311 - val_loss: 0.7794 - learning_rate: 0.0010\n",
      "Epoch 11/100\n",
      "\u001b[1m89/89\u001b[0m \u001b[32m━━━━━━━━━━━━━━━━━━━━\u001b[0m\u001b[37m\u001b[0m \u001b[1m0s\u001b[0m 9ms/step - accuracy: 0.8180 - loss: 0.5098\n",
      "Epoch 11: val_accuracy improved from 0.73112 to 0.75159, saving model to C:\\Users\\jangi\\OneDrive\\Desktop\\Mars Project\\saved\\best_model_corrected.h5\n"
     ]
    },
    {
     "name": "stderr",
     "output_type": "stream",
     "text": [
      "WARNING:absl:You are saving your model as an HDF5 file via `model.save()` or `keras.saving.save_model(model)`. This file format is considered legacy. We recommend using instead the native Keras format, e.g. `model.save('my_model.keras')` or `keras.saving.save_model(model, 'my_model.keras')`. \n"
     ]
    },
    {
     "name": "stdout",
     "output_type": "stream",
     "text": [
      "\u001b[1m89/89\u001b[0m \u001b[32m━━━━━━━━━━━━━━━━━━━━\u001b[0m\u001b[37m\u001b[0m \u001b[1m1s\u001b[0m 12ms/step - accuracy: 0.8179 - loss: 0.5100 - val_accuracy: 0.7516 - val_loss: 0.7062 - learning_rate: 0.0010\n",
      "Epoch 12/100\n",
      "\u001b[1m85/89\u001b[0m \u001b[32m━━━━━━━━━━━━━━━━━━━\u001b[0m\u001b[37m━\u001b[0m \u001b[1m0s\u001b[0m 9ms/step - accuracy: 0.8421 - loss: 0.4671\n",
      "Epoch 12: val_accuracy did not improve from 0.75159\n",
      "\u001b[1m89/89\u001b[0m \u001b[32m━━━━━━━━━━━━━━━━━━━━\u001b[0m\u001b[37m\u001b[0m \u001b[1m1s\u001b[0m 11ms/step - accuracy: 0.8416 - loss: 0.4675 - val_accuracy: 0.7156 - val_loss: 0.8036 - learning_rate: 0.0010\n",
      "Epoch 13/100\n",
      "\u001b[1m85/89\u001b[0m \u001b[32m━━━━━━━━━━━━━━━━━━━\u001b[0m\u001b[37m━\u001b[0m \u001b[1m0s\u001b[0m 10ms/step - accuracy: 0.8560 - loss: 0.4306\n",
      "Epoch 13: val_accuracy did not improve from 0.75159\n",
      "\u001b[1m89/89\u001b[0m \u001b[32m━━━━━━━━━━━━━━━━━━━━\u001b[0m\u001b[37m\u001b[0m \u001b[1m1s\u001b[0m 12ms/step - accuracy: 0.8556 - loss: 0.4317 - val_accuracy: 0.7283 - val_loss: 0.7768 - learning_rate: 0.0010\n",
      "Epoch 14/100\n",
      "\u001b[1m84/89\u001b[0m \u001b[32m━━━━━━━━━━━━━━━━━━\u001b[0m\u001b[37m━━\u001b[0m \u001b[1m0s\u001b[0m 9ms/step - accuracy: 0.8341 - loss: 0.4717\n",
      "Epoch 14: val_accuracy did not improve from 0.75159\n",
      "\u001b[1m89/89\u001b[0m \u001b[32m━━━━━━━━━━━━━━━━━━━━\u001b[0m\u001b[37m\u001b[0m \u001b[1m1s\u001b[0m 11ms/step - accuracy: 0.8346 - loss: 0.4699 - val_accuracy: 0.7459 - val_loss: 0.7906 - learning_rate: 0.0010\n",
      "Epoch 15/100\n",
      "\u001b[1m89/89\u001b[0m \u001b[32m━━━━━━━━━━━━━━━━━━━━\u001b[0m\u001b[37m\u001b[0m \u001b[1m0s\u001b[0m 8ms/step - accuracy: 0.8494 - loss: 0.4281\n",
      "Epoch 15: val_accuracy improved from 0.75159 to 0.75441, saving model to C:\\Users\\jangi\\OneDrive\\Desktop\\Mars Project\\saved\\best_model_corrected.h5\n"
     ]
    },
    {
     "name": "stderr",
     "output_type": "stream",
     "text": [
      "WARNING:absl:You are saving your model as an HDF5 file via `model.save()` or `keras.saving.save_model(model)`. This file format is considered legacy. We recommend using instead the native Keras format, e.g. `model.save('my_model.keras')` or `keras.saving.save_model(model, 'my_model.keras')`. \n"
     ]
    },
    {
     "name": "stdout",
     "output_type": "stream",
     "text": [
      "\u001b[1m89/89\u001b[0m \u001b[32m━━━━━━━━━━━━━━━━━━━━\u001b[0m\u001b[37m\u001b[0m \u001b[1m1s\u001b[0m 12ms/step - accuracy: 0.8493 - loss: 0.4281 - val_accuracy: 0.7544 - val_loss: 0.7486 - learning_rate: 0.0010\n",
      "Epoch 16/100\n",
      "\u001b[1m84/89\u001b[0m \u001b[32m━━━━━━━━━━━━━━━━━━\u001b[0m\u001b[37m━━\u001b[0m \u001b[1m0s\u001b[0m 10ms/step - accuracy: 0.8477 - loss: 0.4118\n",
      "Epoch 16: val_accuracy improved from 0.75441 to 0.76217, saving model to C:\\Users\\jangi\\OneDrive\\Desktop\\Mars Project\\saved\\best_model_corrected.h5\n"
     ]
    },
    {
     "name": "stderr",
     "output_type": "stream",
     "text": [
      "WARNING:absl:You are saving your model as an HDF5 file via `model.save()` or `keras.saving.save_model(model)`. This file format is considered legacy. We recommend using instead the native Keras format, e.g. `model.save('my_model.keras')` or `keras.saving.save_model(model, 'my_model.keras')`. \n"
     ]
    },
    {
     "name": "stdout",
     "output_type": "stream",
     "text": [
      "\u001b[1m89/89\u001b[0m \u001b[32m━━━━━━━━━━━━━━━━━━━━\u001b[0m\u001b[37m\u001b[0m \u001b[1m1s\u001b[0m 13ms/step - accuracy: 0.8476 - loss: 0.4125 - val_accuracy: 0.7622 - val_loss: 0.6965 - learning_rate: 0.0010\n",
      "Epoch 17/100\n",
      "\u001b[1m89/89\u001b[0m \u001b[32m━━━━━━━━━━━━━━━━━━━━\u001b[0m\u001b[37m\u001b[0m \u001b[1m0s\u001b[0m 9ms/step - accuracy: 0.8632 - loss: 0.3853\n",
      "Epoch 17: val_accuracy improved from 0.76217 to 0.76429, saving model to C:\\Users\\jangi\\OneDrive\\Desktop\\Mars Project\\saved\\best_model_corrected.h5\n"
     ]
    },
    {
     "name": "stderr",
     "output_type": "stream",
     "text": [
      "WARNING:absl:You are saving your model as an HDF5 file via `model.save()` or `keras.saving.save_model(model)`. This file format is considered legacy. We recommend using instead the native Keras format, e.g. `model.save('my_model.keras')` or `keras.saving.save_model(model, 'my_model.keras')`. \n"
     ]
    },
    {
     "name": "stdout",
     "output_type": "stream",
     "text": [
      "\u001b[1m89/89\u001b[0m \u001b[32m━━━━━━━━━━━━━━━━━━━━\u001b[0m\u001b[37m\u001b[0m \u001b[1m1s\u001b[0m 14ms/step - accuracy: 0.8632 - loss: 0.3854 - val_accuracy: 0.7643 - val_loss: 0.7046 - learning_rate: 0.0010\n",
      "Epoch 18/100\n",
      "\u001b[1m87/89\u001b[0m \u001b[32m━━━━━━━━━━━━━━━━━━━\u001b[0m\u001b[37m━\u001b[0m \u001b[1m0s\u001b[0m 10ms/step - accuracy: 0.8616 - loss: 0.3792\n",
      "Epoch 18: val_accuracy did not improve from 0.76429\n",
      "\u001b[1m89/89\u001b[0m \u001b[32m━━━━━━━━━━━━━━━━━━━━\u001b[0m\u001b[37m\u001b[0m \u001b[1m1s\u001b[0m 13ms/step - accuracy: 0.8616 - loss: 0.3790 - val_accuracy: 0.7594 - val_loss: 0.7377 - learning_rate: 0.0010\n",
      "Epoch 19/100\n",
      "\u001b[1m86/89\u001b[0m \u001b[32m━━━━━━━━━━━━━━━━━━━\u001b[0m\u001b[37m━\u001b[0m \u001b[1m0s\u001b[0m 11ms/step - accuracy: 0.8713 - loss: 0.3565\n",
      "Epoch 19: val_accuracy did not improve from 0.76429\n",
      "\u001b[1m89/89\u001b[0m \u001b[32m━━━━━━━━━━━━━━━━━━━━\u001b[0m\u001b[37m\u001b[0m \u001b[1m1s\u001b[0m 13ms/step - accuracy: 0.8714 - loss: 0.3566 - val_accuracy: 0.7615 - val_loss: 0.7546 - learning_rate: 0.0010\n",
      "Epoch 20/100\n",
      "\u001b[1m83/89\u001b[0m \u001b[32m━━━━━━━━━━━━━━━━━━\u001b[0m\u001b[37m━━\u001b[0m \u001b[1m0s\u001b[0m 7ms/step - accuracy: 0.8759 - loss: 0.3483\n",
      "Epoch 20: val_accuracy did not improve from 0.76429\n",
      "\u001b[1m89/89\u001b[0m \u001b[32m━━━━━━━━━━━━━━━━━━━━\u001b[0m\u001b[37m\u001b[0m \u001b[1m1s\u001b[0m 9ms/step - accuracy: 0.8757 - loss: 0.3487 - val_accuracy: 0.7565 - val_loss: 0.7320 - learning_rate: 0.0010\n",
      "Epoch 21/100\n",
      "\u001b[1m87/89\u001b[0m \u001b[32m━━━━━━━━━━━━━━━━━━━\u001b[0m\u001b[37m━\u001b[0m \u001b[1m0s\u001b[0m 8ms/step - accuracy: 0.8795 - loss: 0.3379\n",
      "Epoch 21: val_accuracy improved from 0.76429 to 0.77488, saving model to C:\\Users\\jangi\\OneDrive\\Desktop\\Mars Project\\saved\\best_model_corrected.h5\n"
     ]
    },
    {
     "name": "stderr",
     "output_type": "stream",
     "text": [
      "WARNING:absl:You are saving your model as an HDF5 file via `model.save()` or `keras.saving.save_model(model)`. This file format is considered legacy. We recommend using instead the native Keras format, e.g. `model.save('my_model.keras')` or `keras.saving.save_model(model, 'my_model.keras')`. \n"
     ]
    },
    {
     "name": "stdout",
     "output_type": "stream",
     "text": [
      "\n",
      "Epoch 21: ReduceLROnPlateau reducing learning rate to 0.0005000000237487257.\n",
      "\u001b[1m89/89\u001b[0m \u001b[32m━━━━━━━━━━━━━━━━━━━━\u001b[0m\u001b[37m\u001b[0m \u001b[1m1s\u001b[0m 11ms/step - accuracy: 0.8796 - loss: 0.3374 - val_accuracy: 0.7749 - val_loss: 0.7369 - learning_rate: 0.0010\n",
      "Epoch 22/100\n",
      "\u001b[1m84/89\u001b[0m \u001b[32m━━━━━━━━━━━━━━━━━━\u001b[0m\u001b[37m━━\u001b[0m \u001b[1m0s\u001b[0m 8ms/step - accuracy: 0.8969 - loss: 0.2885\n",
      "Epoch 22: val_accuracy did not improve from 0.77488\n",
      "\u001b[1m89/89\u001b[0m \u001b[32m━━━━━━━━━━━━━━━━━━━━\u001b[0m\u001b[37m\u001b[0m \u001b[1m1s\u001b[0m 10ms/step - accuracy: 0.8976 - loss: 0.2872 - val_accuracy: 0.7735 - val_loss: 0.7056 - learning_rate: 5.0000e-04\n",
      "Epoch 23/100\n",
      "\u001b[1m87/89\u001b[0m \u001b[32m━━━━━━━━━━━━━━━━━━━\u001b[0m\u001b[37m━\u001b[0m \u001b[1m0s\u001b[0m 8ms/step - accuracy: 0.9287 - loss: 0.2242\n",
      "Epoch 23: val_accuracy improved from 0.77488 to 0.78829, saving model to C:\\Users\\jangi\\OneDrive\\Desktop\\Mars Project\\saved\\best_model_corrected.h5\n"
     ]
    },
    {
     "name": "stderr",
     "output_type": "stream",
     "text": [
      "WARNING:absl:You are saving your model as an HDF5 file via `model.save()` or `keras.saving.save_model(model)`. This file format is considered legacy. We recommend using instead the native Keras format, e.g. `model.save('my_model.keras')` or `keras.saving.save_model(model, 'my_model.keras')`. \n"
     ]
    },
    {
     "name": "stdout",
     "output_type": "stream",
     "text": [
      "\u001b[1m89/89\u001b[0m \u001b[32m━━━━━━━━━━━━━━━━━━━━\u001b[0m\u001b[37m\u001b[0m \u001b[1m1s\u001b[0m 12ms/step - accuracy: 0.9283 - loss: 0.2248 - val_accuracy: 0.7883 - val_loss: 0.6937 - learning_rate: 5.0000e-04\n",
      "Epoch 24/100\n",
      "\u001b[1m86/89\u001b[0m \u001b[32m━━━━━━━━━━━━━━━━━━━\u001b[0m\u001b[37m━\u001b[0m \u001b[1m0s\u001b[0m 8ms/step - accuracy: 0.9121 - loss: 0.2423\n",
      "Epoch 24: val_accuracy did not improve from 0.78829\n",
      "\u001b[1m89/89\u001b[0m \u001b[32m━━━━━━━━━━━━━━━━━━━━\u001b[0m\u001b[37m\u001b[0m \u001b[1m1s\u001b[0m 10ms/step - accuracy: 0.9122 - loss: 0.2423 - val_accuracy: 0.7735 - val_loss: 0.6992 - learning_rate: 5.0000e-04\n",
      "Epoch 25/100\n",
      "\u001b[1m85/89\u001b[0m \u001b[32m━━━━━━━━━━━━━━━━━━━\u001b[0m\u001b[37m━\u001b[0m \u001b[1m0s\u001b[0m 10ms/step - accuracy: 0.9241 - loss: 0.2144\n",
      "Epoch 25: val_accuracy did not improve from 0.78829\n",
      "\u001b[1m89/89\u001b[0m \u001b[32m━━━━━━━━━━━━━━━━━━━━\u001b[0m\u001b[37m\u001b[0m \u001b[1m1s\u001b[0m 12ms/step - accuracy: 0.9240 - loss: 0.2147 - val_accuracy: 0.7798 - val_loss: 0.7155 - learning_rate: 5.0000e-04\n",
      "Epoch 26/100\n",
      "\u001b[1m89/89\u001b[0m \u001b[32m━━━━━━━━━━━━━━━━━━━━\u001b[0m\u001b[37m\u001b[0m \u001b[1m0s\u001b[0m 9ms/step - accuracy: 0.9285 - loss: 0.2128\n",
      "Epoch 26: val_accuracy did not improve from 0.78829\n",
      "\u001b[1m89/89\u001b[0m \u001b[32m━━━━━━━━━━━━━━━━━━━━\u001b[0m\u001b[37m\u001b[0m \u001b[1m1s\u001b[0m 12ms/step - accuracy: 0.9285 - loss: 0.2128 - val_accuracy: 0.7805 - val_loss: 0.6984 - learning_rate: 5.0000e-04\n",
      "Epoch 27/100\n",
      "\u001b[1m85/89\u001b[0m \u001b[32m━━━━━━━━━━━━━━━━━━━\u001b[0m\u001b[37m━\u001b[0m \u001b[1m0s\u001b[0m 10ms/step - accuracy: 0.9235 - loss: 0.2058\n",
      "Epoch 27: val_accuracy improved from 0.78829 to 0.79393, saving model to C:\\Users\\jangi\\OneDrive\\Desktop\\Mars Project\\saved\\best_model_corrected.h5\n"
     ]
    },
    {
     "name": "stderr",
     "output_type": "stream",
     "text": [
      "WARNING:absl:You are saving your model as an HDF5 file via `model.save()` or `keras.saving.save_model(model)`. This file format is considered legacy. We recommend using instead the native Keras format, e.g. `model.save('my_model.keras')` or `keras.saving.save_model(model, 'my_model.keras')`. \n"
     ]
    },
    {
     "name": "stdout",
     "output_type": "stream",
     "text": [
      "\u001b[1m89/89\u001b[0m \u001b[32m━━━━━━━━━━━━━━━━━━━━\u001b[0m\u001b[37m\u001b[0m \u001b[1m1s\u001b[0m 14ms/step - accuracy: 0.9236 - loss: 0.2058 - val_accuracy: 0.7939 - val_loss: 0.7011 - learning_rate: 5.0000e-04\n",
      "Epoch 28/100\n",
      "\u001b[1m87/89\u001b[0m \u001b[32m━━━━━━━━━━━━━━━━━━━\u001b[0m\u001b[37m━\u001b[0m \u001b[1m0s\u001b[0m 10ms/step - accuracy: 0.9209 - loss: 0.2169\n",
      "Epoch 28: val_accuracy did not improve from 0.79393\n",
      "\n",
      "Epoch 28: ReduceLROnPlateau reducing learning rate to 0.0002500000118743628.\n",
      "\u001b[1m89/89\u001b[0m \u001b[32m━━━━━━━━━━━━━━━━━━━━\u001b[0m\u001b[37m\u001b[0m \u001b[1m1s\u001b[0m 12ms/step - accuracy: 0.9210 - loss: 0.2166 - val_accuracy: 0.7784 - val_loss: 0.7445 - learning_rate: 5.0000e-04\n",
      "Epoch 29/100\n",
      "\u001b[1m86/89\u001b[0m \u001b[32m━━━━━━━━━━━━━━━━━━━\u001b[0m\u001b[37m━\u001b[0m \u001b[1m0s\u001b[0m 11ms/step - accuracy: 0.9303 - loss: 0.1969\n",
      "Epoch 29: val_accuracy did not improve from 0.79393\n",
      "\u001b[1m89/89\u001b[0m \u001b[32m━━━━━━━━━━━━━━━━━━━━\u001b[0m\u001b[37m\u001b[0m \u001b[1m1s\u001b[0m 13ms/step - accuracy: 0.9305 - loss: 0.1963 - val_accuracy: 0.7876 - val_loss: 0.6718 - learning_rate: 2.5000e-04\n",
      "Epoch 30/100\n",
      "\u001b[1m89/89\u001b[0m \u001b[32m━━━━━━━━━━━━━━━━━━━━\u001b[0m\u001b[37m\u001b[0m \u001b[1m0s\u001b[0m 11ms/step - accuracy: 0.9436 - loss: 0.1642\n",
      "Epoch 30: val_accuracy did not improve from 0.79393\n",
      "\u001b[1m89/89\u001b[0m \u001b[32m━━━━━━━━━━━━━━━━━━━━\u001b[0m\u001b[37m\u001b[0m \u001b[1m1s\u001b[0m 15ms/step - accuracy: 0.9436 - loss: 0.1642 - val_accuracy: 0.7925 - val_loss: 0.6886 - learning_rate: 2.5000e-04\n",
      "Epoch 31/100\n",
      "\u001b[1m85/89\u001b[0m \u001b[32m━━━━━━━━━━━━━━━━━━━\u001b[0m\u001b[37m━\u001b[0m \u001b[1m0s\u001b[0m 11ms/step - accuracy: 0.9409 - loss: 0.1621\n",
      "Epoch 31: val_accuracy did not improve from 0.79393\n",
      "\u001b[1m89/89\u001b[0m \u001b[32m━━━━━━━━━━━━━━━━━━━━\u001b[0m\u001b[37m\u001b[0m \u001b[1m1s\u001b[0m 14ms/step - accuracy: 0.9408 - loss: 0.1622 - val_accuracy: 0.7904 - val_loss: 0.6916 - learning_rate: 2.5000e-04\n",
      "Epoch 32/100\n",
      "\u001b[1m85/89\u001b[0m \u001b[32m━━━━━━━━━━━━━━━━━━━\u001b[0m\u001b[37m━\u001b[0m \u001b[1m0s\u001b[0m 10ms/step - accuracy: 0.9437 - loss: 0.1665\n",
      "Epoch 32: val_accuracy did not improve from 0.79393\n",
      "\u001b[1m89/89\u001b[0m \u001b[32m━━━━━━━━━━━━━━━━━━━━\u001b[0m\u001b[37m\u001b[0m \u001b[1m3s\u001b[0m 12ms/step - accuracy: 0.9437 - loss: 0.1666 - val_accuracy: 0.7819 - val_loss: 0.6916 - learning_rate: 2.5000e-04\n",
      "Epoch 33/100\n",
      "\u001b[1m85/89\u001b[0m \u001b[32m━━━━━━━━━━━━━━━━━━━\u001b[0m\u001b[37m━\u001b[0m \u001b[1m0s\u001b[0m 10ms/step - accuracy: 0.9439 - loss: 0.1503\n",
      "Epoch 33: val_accuracy did not improve from 0.79393\n",
      "\u001b[1m89/89\u001b[0m \u001b[32m━━━━━━━━━━━━━━━━━━━━\u001b[0m\u001b[37m\u001b[0m \u001b[1m1s\u001b[0m 12ms/step - accuracy: 0.9440 - loss: 0.1504 - val_accuracy: 0.7841 - val_loss: 0.7323 - learning_rate: 2.5000e-04\n",
      "Epoch 34/100\n",
      "\u001b[1m86/89\u001b[0m \u001b[32m━━━━━━━━━━━━━━━━━━━\u001b[0m\u001b[37m━\u001b[0m \u001b[1m0s\u001b[0m 12ms/step - accuracy: 0.9541 - loss: 0.1477\n",
      "Epoch 34: val_accuracy did not improve from 0.79393\n",
      "\n",
      "Epoch 34: ReduceLROnPlateau reducing learning rate to 0.0001250000059371814.\n",
      "\u001b[1m89/89\u001b[0m \u001b[32m━━━━━━━━━━━━━━━━━━━━\u001b[0m\u001b[37m\u001b[0m \u001b[1m1s\u001b[0m 15ms/step - accuracy: 0.9539 - loss: 0.1477 - val_accuracy: 0.7848 - val_loss: 0.7371 - learning_rate: 2.5000e-04\n",
      "Epoch 35/100\n",
      "\u001b[1m89/89\u001b[0m \u001b[32m━━━━━━━━━━━━━━━━━━━━\u001b[0m\u001b[37m\u001b[0m \u001b[1m0s\u001b[0m 9ms/step - accuracy: 0.9470 - loss: 0.1521 \n",
      "Epoch 35: val_accuracy improved from 0.79393 to 0.79887, saving model to C:\\Users\\jangi\\OneDrive\\Desktop\\Mars Project\\saved\\best_model_corrected.h5\n"
     ]
    },
    {
     "name": "stderr",
     "output_type": "stream",
     "text": [
      "WARNING:absl:You are saving your model as an HDF5 file via `model.save()` or `keras.saving.save_model(model)`. This file format is considered legacy. We recommend using instead the native Keras format, e.g. `model.save('my_model.keras')` or `keras.saving.save_model(model, 'my_model.keras')`. \n"
     ]
    },
    {
     "name": "stdout",
     "output_type": "stream",
     "text": [
      "\u001b[1m89/89\u001b[0m \u001b[32m━━━━━━━━━━━━━━━━━━━━\u001b[0m\u001b[37m\u001b[0m \u001b[1m1s\u001b[0m 13ms/step - accuracy: 0.9470 - loss: 0.1520 - val_accuracy: 0.7989 - val_loss: 0.6873 - learning_rate: 1.2500e-04\n",
      "Epoch 36/100\n",
      "\u001b[1m87/89\u001b[0m \u001b[32m━━━━━━━━━━━━━━━━━━━\u001b[0m\u001b[37m━\u001b[0m \u001b[1m0s\u001b[0m 12ms/step - accuracy: 0.9519 - loss: 0.1275\n",
      "Epoch 36: val_accuracy did not improve from 0.79887\n",
      "\u001b[1m89/89\u001b[0m \u001b[32m━━━━━━━━━━━━━━━━━━━━\u001b[0m\u001b[37m\u001b[0m \u001b[1m1s\u001b[0m 15ms/step - accuracy: 0.9519 - loss: 0.1277 - val_accuracy: 0.7953 - val_loss: 0.6892 - learning_rate: 1.2500e-04\n",
      "Epoch 37/100\n",
      "\u001b[1m85/89\u001b[0m \u001b[32m━━━━━━━━━━━━━━━━━━━\u001b[0m\u001b[37m━\u001b[0m \u001b[1m0s\u001b[0m 9ms/step - accuracy: 0.9522 - loss: 0.1358\n",
      "Epoch 37: val_accuracy improved from 0.79887 to 0.80169, saving model to C:\\Users\\jangi\\OneDrive\\Desktop\\Mars Project\\saved\\best_model_corrected.h5\n"
     ]
    },
    {
     "name": "stderr",
     "output_type": "stream",
     "text": [
      "WARNING:absl:You are saving your model as an HDF5 file via `model.save()` or `keras.saving.save_model(model)`. This file format is considered legacy. We recommend using instead the native Keras format, e.g. `model.save('my_model.keras')` or `keras.saving.save_model(model, 'my_model.keras')`. \n"
     ]
    },
    {
     "name": "stdout",
     "output_type": "stream",
     "text": [
      "\u001b[1m89/89\u001b[0m \u001b[32m━━━━━━━━━━━━━━━━━━━━\u001b[0m\u001b[37m\u001b[0m \u001b[1m1s\u001b[0m 13ms/step - accuracy: 0.9521 - loss: 0.1358 - val_accuracy: 0.8017 - val_loss: 0.6919 - learning_rate: 1.2500e-04\n",
      "Epoch 38/100\n",
      "\u001b[1m87/89\u001b[0m \u001b[32m━━━━━━━━━━━━━━━━━━━\u001b[0m\u001b[37m━\u001b[0m \u001b[1m0s\u001b[0m 12ms/step - accuracy: 0.9536 - loss: 0.1345\n",
      "Epoch 38: val_accuracy did not improve from 0.80169\n",
      "\u001b[1m89/89\u001b[0m \u001b[32m━━━━━━━━━━━━━━━━━━━━\u001b[0m\u001b[37m\u001b[0m \u001b[1m1s\u001b[0m 14ms/step - accuracy: 0.9537 - loss: 0.1342 - val_accuracy: 0.7960 - val_loss: 0.7150 - learning_rate: 1.2500e-04\n",
      "Epoch 39/100\n",
      "\u001b[1m87/89\u001b[0m \u001b[32m━━━━━━━━━━━━━━━━━━━\u001b[0m\u001b[37m━\u001b[0m \u001b[1m0s\u001b[0m 10ms/step - accuracy: 0.9544 - loss: 0.1261\n",
      "Epoch 39: val_accuracy did not improve from 0.80169\n",
      "\n",
      "Epoch 39: ReduceLROnPlateau reducing learning rate to 6.25000029685907e-05.\n",
      "\u001b[1m89/89\u001b[0m \u001b[32m━━━━━━━━━━━━━━━━━━━━\u001b[0m\u001b[37m\u001b[0m \u001b[1m1s\u001b[0m 12ms/step - accuracy: 0.9544 - loss: 0.1259 - val_accuracy: 0.7989 - val_loss: 0.7059 - learning_rate: 1.2500e-04\n",
      "Epoch 40/100\n",
      "\u001b[1m88/89\u001b[0m \u001b[32m━━━━━━━━━━━━━━━━━━━\u001b[0m\u001b[37m━\u001b[0m \u001b[1m0s\u001b[0m 9ms/step - accuracy: 0.9601 - loss: 0.1213\n",
      "Epoch 40: val_accuracy did not improve from 0.80169\n",
      "\u001b[1m89/89\u001b[0m \u001b[32m━━━━━━━━━━━━━━━━━━━━\u001b[0m\u001b[37m\u001b[0m \u001b[1m1s\u001b[0m 11ms/step - accuracy: 0.9601 - loss: 0.1212 - val_accuracy: 0.7968 - val_loss: 0.7077 - learning_rate: 6.2500e-05\n",
      "Epoch 41/100\n",
      "\u001b[1m84/89\u001b[0m \u001b[32m━━━━━━━━━━━━━━━━━━\u001b[0m\u001b[37m━━\u001b[0m \u001b[1m0s\u001b[0m 9ms/step - accuracy: 0.9664 - loss: 0.1036\n",
      "Epoch 41: val_accuracy did not improve from 0.80169\n",
      "\u001b[1m89/89\u001b[0m \u001b[32m━━━━━━━━━━━━━━━━━━━━\u001b[0m\u001b[37m\u001b[0m \u001b[1m1s\u001b[0m 11ms/step - accuracy: 0.9663 - loss: 0.1039 - val_accuracy: 0.7911 - val_loss: 0.7092 - learning_rate: 6.2500e-05\n",
      "Epoch 42/100\n",
      "\u001b[1m88/89\u001b[0m \u001b[32m━━━━━━━━━━━━━━━━━━━\u001b[0m\u001b[37m━\u001b[0m \u001b[1m0s\u001b[0m 12ms/step - accuracy: 0.9644 - loss: 0.1070\n",
      "Epoch 42: val_accuracy did not improve from 0.80169\n",
      "\u001b[1m89/89\u001b[0m \u001b[32m━━━━━━━━━━━━━━━━━━━━\u001b[0m\u001b[37m\u001b[0m \u001b[1m1s\u001b[0m 14ms/step - accuracy: 0.9643 - loss: 0.1070 - val_accuracy: 0.7996 - val_loss: 0.7058 - learning_rate: 6.2500e-05\n",
      "Epoch 43/100\n",
      "\u001b[1m84/89\u001b[0m \u001b[32m━━━━━━━━━━━━━━━━━━\u001b[0m\u001b[37m━━\u001b[0m \u001b[1m0s\u001b[0m 9ms/step - accuracy: 0.9572 - loss: 0.1248\n",
      "Epoch 43: val_accuracy did not improve from 0.80169\n",
      "\u001b[1m89/89\u001b[0m \u001b[32m━━━━━━━━━━━━━━━━━━━━\u001b[0m\u001b[37m\u001b[0m \u001b[1m1s\u001b[0m 11ms/step - accuracy: 0.9574 - loss: 0.1243 - val_accuracy: 0.7989 - val_loss: 0.7032 - learning_rate: 6.2500e-05\n",
      "Epoch 44/100\n",
      "\u001b[1m86/89\u001b[0m \u001b[32m━━━━━━━━━━━━━━━━━━━\u001b[0m\u001b[37m━\u001b[0m \u001b[1m0s\u001b[0m 9ms/step - accuracy: 0.9674 - loss: 0.1011\n",
      "Epoch 44: val_accuracy did not improve from 0.80169\n",
      "\n",
      "Epoch 44: ReduceLROnPlateau reducing learning rate to 3.125000148429535e-05.\n",
      "\u001b[1m89/89\u001b[0m \u001b[32m━━━━━━━━━━━━━━━━━━━━\u001b[0m\u001b[37m\u001b[0m \u001b[1m1s\u001b[0m 12ms/step - accuracy: 0.9674 - loss: 0.1010 - val_accuracy: 0.7953 - val_loss: 0.7182 - learning_rate: 6.2500e-05\n",
      "Epoch 45/100\n",
      "\u001b[1m87/89\u001b[0m \u001b[32m━━━━━━━━━━━━━━━━━━━\u001b[0m\u001b[37m━\u001b[0m \u001b[1m0s\u001b[0m 13ms/step - accuracy: 0.9636 - loss: 0.1053\n",
      "Epoch 45: val_accuracy did not improve from 0.80169\n",
      "\u001b[1m89/89\u001b[0m \u001b[32m━━━━━━━━━━━━━━━━━━━━\u001b[0m\u001b[37m\u001b[0m \u001b[1m1s\u001b[0m 15ms/step - accuracy: 0.9635 - loss: 0.1055 - val_accuracy: 0.7925 - val_loss: 0.7154 - learning_rate: 3.1250e-05\n",
      "Epoch 46/100\n",
      "\u001b[1m85/89\u001b[0m \u001b[32m━━━━━━━━━━━━━━━━━━━\u001b[0m\u001b[37m━\u001b[0m \u001b[1m0s\u001b[0m 11ms/step - accuracy: 0.9659 - loss: 0.1041\n",
      "Epoch 46: val_accuracy did not improve from 0.80169\n",
      "\u001b[1m89/89\u001b[0m \u001b[32m━━━━━━━━━━━━━━━━━━━━\u001b[0m\u001b[37m\u001b[0m \u001b[1m1s\u001b[0m 14ms/step - accuracy: 0.9658 - loss: 0.1041 - val_accuracy: 0.7996 - val_loss: 0.7125 - learning_rate: 3.1250e-05\n",
      "Epoch 47/100\n",
      "\u001b[1m89/89\u001b[0m \u001b[32m━━━━━━━━━━━━━━━━━━━━\u001b[0m\u001b[37m\u001b[0m \u001b[1m0s\u001b[0m 11ms/step - accuracy: 0.9625 - loss: 0.1151\n",
      "Epoch 47: val_accuracy did not improve from 0.80169\n",
      "\u001b[1m89/89\u001b[0m \u001b[32m━━━━━━━━━━━━━━━━━━━━\u001b[0m\u001b[37m\u001b[0m \u001b[1m1s\u001b[0m 13ms/step - accuracy: 0.9626 - loss: 0.1150 - val_accuracy: 0.7996 - val_loss: 0.7174 - learning_rate: 3.1250e-05\n",
      "Epoch 47: early stopping\n",
      "Restoring model weights from the end of the best epoch: 37.\n"
     ]
    }
   ],
   "source": [
    "# Train model\n",
    "print(\"Training model...\")\n",
    "history = model.fit(\n",
    "    X_train_scaled, y_train,\n",
    "    batch_size=64,\n",
    "    epochs=100,\n",
    "    validation_split=0.2, \n",
    "    callbacks=callbacks,\n",
    "    verbose=1\n",
    ")\n"
   ]
  },
  {
   "cell_type": "markdown",
   "metadata": {},
   "source": [
    " # Model Evaluation"
   ]
  },
  {
   "cell_type": "code",
   "execution_count": 31,
   "metadata": {},
   "outputs": [
    {
     "data": {
      "text/plain": [
       "(355, 105)"
      ]
     },
     "execution_count": 31,
     "metadata": {},
     "output_type": "execute_result"
    }
   ],
   "source": [
    "X_test_scaled.shape"
   ]
  },
  {
   "cell_type": "code",
   "execution_count": 32,
   "metadata": {},
   "outputs": [
    {
     "name": "stdout",
     "output_type": "stream",
     "text": [
      "\u001b[1m12/12\u001b[0m \u001b[32m━━━━━━━━━━━━━━━━━━━━\u001b[0m\u001b[37m\u001b[0m \u001b[1m1s\u001b[0m 22ms/step\n",
      "Test Accuracy: 0.8028\n",
      "\n",
      "Classification Report:\n",
      "              precision    recall  f1-score   support\n",
      "\n",
      "           0       0.78      0.74      0.76        38\n",
      "           1       0.84      0.87      0.85        60\n",
      "           2       0.81      0.78      0.80        60\n",
      "           3       0.81      0.85      0.83        60\n",
      "           4       0.77      0.78      0.78        60\n",
      "           5       0.87      0.69      0.77        39\n",
      "           6       0.75      0.87      0.80        38\n",
      "\n",
      "    accuracy                           0.80       355\n",
      "   macro avg       0.80      0.80      0.80       355\n",
      "weighted avg       0.80      0.80      0.80       355\n",
      "\n"
     ]
    }
   ],
   "source": [
    "# Evaluate on test set\n",
    "y_pred = np.argmax(model.predict(X_test_scaled), axis=1)\n",
    "\n",
    "accuracy = accuracy_score(y_test, y_pred)\n",
    "print(f\"Test Accuracy: {accuracy:.4f}\")\n",
    "print(\"\\nClassification Report:\")\n",
    "print(classification_report(y_test, y_pred))\n"
   ]
  },
  {
   "cell_type": "markdown",
   "metadata": {},
   "source": [
    " # Visualization and Analysis"
   ]
  },
  {
   "cell_type": "code",
   "execution_count": 33,
   "metadata": {},
   "outputs": [
    {
     "data": {
      "image/png": "[encoded data removed]",
      "text/plain": [
       "<Figure size 1500x500 with 4 Axes>"
      ]
     },
     "metadata": {},
     "output_type": "display_data"
    }
   ],
   "source": [
    "\n",
    "plt.figure(figsize=(15, 5))\n",
    "\n",
    "plt.subplot(1, 3, 1)\n",
    "plt.plot(history.history['loss'], label='Training Loss')\n",
    "plt.plot(history.history['val_loss'], label='Validation Loss')\n",
    "plt.title('Model Loss')\n",
    "plt.xlabel('Epoch')\n",
    "plt.ylabel('Loss')\n",
    "plt.legend()\n",
    "\n",
    "plt.subplot(1, 3, 2)\n",
    "plt.plot(history.history['accuracy'], label='Training Accuracy')\n",
    "plt.plot(history.history['val_accuracy'], label='Validation Accuracy')\n",
    "plt.title('Model Accuracy')\n",
    "plt.xlabel('Epoch')\n",
    "plt.ylabel('Accuracy')\n",
    "plt.legend()\n",
    "\n",
    "plt.subplot(1, 3, 3)\n",
    "emotion_labels = ['Neutral', 'Happy', 'Sad', 'Angry', 'Fearful', 'Disgust', 'Surprised']\n",
    "cm = confusion_matrix(y_test, y_pred)\n",
    "sns.heatmap(cm, annot=True, fmt='d', cmap='Blues', \n",
    "            xticklabels=emotion_labels, yticklabels=emotion_labels)\n",
    "plt.title('Confusion Matrix')\n",
    "plt.xlabel('Predicted')\n",
    "plt.ylabel('Actual')\n",
    "\n",
    "plt.tight_layout()\n",
    "plt.show()\n"
   ]
  },
  {
   "cell_type": "code",
   "execution_count": null,
   "metadata": {},
   "outputs": [],
   "source": []
  }
 ],
 "metadata": {
  "kernelspec": {
   "display_name": "Python [conda env:base] *",
   "language": "python",
   "name": "conda-base-py"
  },
  "language_info": {
   "codemirror_mode": {
    "name": "ipython",
    "version": 3
   },
   "file_extension": ".py",
   "mimetype": "text/x-python",
   "name": "python",
   "nbconvert_exporter": "python",
   "pygments_lexer": "ipython3",
   "version": "3.11.5"
  }
 },
 "nbformat": 4,
 "nbformat_minor": 4
}
